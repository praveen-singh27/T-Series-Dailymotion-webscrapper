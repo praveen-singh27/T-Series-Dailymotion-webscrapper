{
 "cells": [
  {
   "cell_type": "code",
   "execution_count": 1,
   "id": "7c94114b",
   "metadata": {},
   "outputs": [],
   "source": [
    "import pandas as pd\n",
    "import requests\n",
    "from bs4 import BeautifulSoup\n",
    "import numpy as np"
   ]
  },
  {
   "cell_type": "code",
   "execution_count": 2,
   "id": "42e0a87c",
   "metadata": {},
   "outputs": [],
   "source": [
    "url = \"https://www.eventbrite.com/\""
   ]
  },
  {
   "cell_type": "code",
   "execution_count": 3,
   "id": "2a7ee059",
   "metadata": {},
   "outputs": [
    {
     "data": {
      "text/plain": [
       "<Response [200]>"
      ]
     },
     "execution_count": 3,
     "metadata": {},
     "output_type": "execute_result"
    }
   ],
   "source": [
    "response = requests.get(url)\n",
    "response"
   ]
  },
  {
   "cell_type": "markdown",
   "id": "228ada0a",
   "metadata": {},
   "source": [
    "#### Parse the HTML content with BeautifulSoup"
   ]
  },
  {
   "cell_type": "code",
   "execution_count": 4,
   "id": "8de33283",
   "metadata": {},
   "outputs": [
    {
     "data": {
      "text/plain": [
       "bs4.BeautifulSoup"
      ]
     },
     "execution_count": 4,
     "metadata": {},
     "output_type": "execute_result"
    }
   ],
   "source": [
    "soup = BeautifulSoup(response.content,'html.parser')\n",
    "type(soup)"
   ]
  },
  {
   "cell_type": "code",
   "execution_count": 5,
   "id": "2a65d95d",
   "metadata": {},
   "outputs": [],
   "source": [
    "cards = soup.find('div', class_= 'feed-events-bucket__content__cards-container')\n",
    "# len(cards)\n",
    "cards"
   ]
  },
  {
   "cell_type": "code",
   "execution_count": 6,
   "id": "bdb94f44",
   "metadata": {},
   "outputs": [
    {
     "name": "stdout",
     "output_type": "stream",
     "text": [
      "[]\n"
     ]
    }
   ],
   "source": [
    "import requests\n",
    "from lxml import html\n",
    "\n",
    "\n",
    "response = requests.get(url)\n",
    "tree = html.fromstring(response.content)\n",
    "\n",
    "cards = tree.xpath('//div[@class=\"feed-events-bucket__content__cards-container\"]')\n",
    "print(cards)\n",
    "\n",
    "for card in cards:\n",
    "    event = item.xpath('.//a[@class=\"eds-g-cell eds-g-cell--has-overflow eds-g-cell-6-12 eds-g-cell-mn-4-12 eds-g-cell-lg-3-12 feed__card-cell\"]/a/text()').strip()\n",
    "    print(event)\n",
    "\n"
   ]
  },
  {
   "cell_type": "code",
   "execution_count": 8,
   "id": "7f3eafd0",
   "metadata": {},
   "outputs": [
    {
     "name": "stdout",
     "output_type": "stream",
     "text": [
      "['Write Your Purpose - A Workshop for Nonfiction Book Writers\\nTue, Mar 12 • 7:30 PM GMT+5:30\\nFree\\nPublish Your Purpose\\n255 followers\\nPromoted', 'Going fast\\nIndia Tech Summit\\nFri, Aug 23 • 10:00 AM\\nNew Delhi\\nFrom $0.00\\nGlobal Startup Ecosystem\\n8.4k followers', 'The Art Of Becoming A Million Dollar Speaker\\nSun, Mar 10 • 8:30 AM\\nibis New Delhi Aerocity\\nFrom £10.00\\nAmandeep Thind\\n38 followers', \"ICCI's Global Tourism Mission 2024\\nMon, Apr 29 • 10:00 AM\\nPragati Maidan\\nFrom $24.00\\nInventivepreneur Chamber of Commerce & Industries\\n21 followers\", 'ASIA Security Conference & Exhibition | Anti-Counterfeit & Brand Protection\\nTue, Jul 23 • 9:30 AM\\nNew Delhi\\nFrom $0.00\\nASIAS SECURITY GROUP SDN. BHD.\\n190 followers', 'Rethinking Presentations: 5 weeks to becoming a better presenter\\nTue, Mar 19 • 9:30 PM GMT+5:30\\nFrom $125.00\\nDanielle Hennis, Make It Memorable\\n66 followers\\nPromoted', 'InnoMetro - 4th Edition\\nFri, May 24 • 9:00 AM\\nVivanta New Delhi, Dwarka\\nFrom £103.27', 'Eduverse Summit Series 2024 - New Delhi , India\\nFri, Aug 30 • 8:00 AM\\nJW Marriott Hotel New Delhi Aerocity\\nFrom $100.00\\nEduverse Summit\\n128 followers']\n"
     ]
    }
   ],
   "source": [
    "from selenium import webdriver\n",
    "from webdriver_manager.chrome import ChromeDriverManager\n",
    "\n",
    "# Initialize Chrome webdriver\n",
    "driver = webdriver.Chrome(ChromeDriverManager().install())\n",
    "\n",
    "# Navigate to the Eventbrite website\n",
    "driver.get('https://www.eventbrite.com/')\n",
    "\n",
    "# Wait for a few seconds to ensure the page is fully loaded\n",
    "driver.implicitly_wait(10)\n",
    "\n",
    "# Extract event names\n",
    "\n",
    "event_elements = driver.find_elements_by_xpath('//*[@id=\"panel0\"]/section/div/div/section[*]/div/div/div[2]/div[*]/section/div/section/div')\n",
    "\n",
    "event_details = []\n",
    "for event_element in event_elements:\n",
    "    \n",
    "    event_details.append(event_element.text.strip())\n",
    "                                                          \n",
    "                                                        \n",
    "# Close the browser\n",
    "driver.quit()\n",
    "print(event_details)\n"
   ]
  },
  {
   "cell_type": "code",
   "execution_count": 32,
   "id": "1836771b",
   "metadata": {},
   "outputs": [
    {
     "data": {
      "text/plain": [
       "8"
      ]
     },
     "execution_count": 32,
     "metadata": {},
     "output_type": "execute_result"
    }
   ],
   "source": [
    "event_details[0]\n",
    "len(event_details)"
   ]
  },
  {
   "cell_type": "code",
   "execution_count": 65,
   "id": "8d10da83",
   "metadata": {},
   "outputs": [
    {
     "name": "stdout",
     "output_type": "stream",
     "text": [
      "['Write Your Purpose - A Workshop for Nonfiction Book Writers', 'Going fast', 'The Art Of Becoming A Million Dollar Speaker', \"ICCI's Global Tourism Mission 2024\", 'ASIA Security Conference & Exhibition | Anti-Counterfeit & Brand Protection', 'Rethinking Presentations: 5 weeks to becoming a better presenter', 'InnoMetro - 4th Edition', 'Eduverse Summit Series 2024 - New Delhi ']\n"
     ]
    }
   ],
   "source": [
    "event_names = []\n",
    "\n",
    "event_price = []\n",
    "organizer_name = []\n",
    "\n",
    "\n",
    "# fetching event names\n",
    "for event in event_details:\n",
    "    temp = event.split(',')[0].split('\\n')\n",
    "    event_names.append(temp[0])\n",
    "\n",
    "print(event_names)"
   ]
  },
  {
   "cell_type": "code",
   "execution_count": 68,
   "id": "b4707fbc",
   "metadata": {},
   "outputs": [
    {
     "name": "stdout",
     "output_type": "stream",
     "text": [
      "['Tue, Mar 12 • 7:30 PM GMT+5:30', 'India Tech Summit', 'Sun, Mar 10 • 8:30 AM', 'Mon, Apr 29 • 10:00 AM', 'Tue, Jul 23 • 9:30 AM', 'Tue, Mar 19 • 9:30 PM GMT+5:30', 'Fri, May 24 • 9:00 AM', 'Fri, Aug 30 • 8:00 AM']\n"
     ]
    }
   ],
   "source": [
    "# fetching event date\n",
    "event_date = []\n",
    "event_details[0]\n",
    "\n",
    "for event in event_details:\n",
    "    temp = event.split('\\n')\n",
    "    event_date.append(temp[1])\n",
    "    \n",
    "print(event_date)    "
   ]
  },
  {
   "cell_type": "code",
   "execution_count": 69,
   "id": "aeb1bca4",
   "metadata": {},
   "outputs": [
    {
     "name": "stdout",
     "output_type": "stream",
     "text": [
      "['Going fast', 'India Tech Summit', 'Fri, Aug 23 • 10:00 AM', 'New Delhi', 'From $0.00', 'Global Startup Ecosystem', '8.4k followers']\n"
     ]
    }
   ],
   "source": [
    "temp = event_details[1].split('\\n')\n",
    "print(temp)"
   ]
  },
  {
   "cell_type": "code",
   "execution_count": null,
   "id": "76af31df",
   "metadata": {},
   "outputs": [],
   "source": []
  }
 ],
 "metadata": {
  "kernelspec": {
   "display_name": "Python 3 (ipykernel)",
   "language": "python",
   "name": "python3"
  },
  "language_info": {
   "codemirror_mode": {
    "name": "ipython",
    "version": 3
   },
   "file_extension": ".py",
   "mimetype": "text/x-python",
   "name": "python",
   "nbconvert_exporter": "python",
   "pygments_lexer": "ipython3",
   "version": "3.10.12"
  }
 },
 "nbformat": 4,
 "nbformat_minor": 5
}
