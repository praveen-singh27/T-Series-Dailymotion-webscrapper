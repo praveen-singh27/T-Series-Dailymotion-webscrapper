{
 "cells": [
  {
   "cell_type": "code",
   "execution_count": 21,
   "id": "6fa279aa",
   "metadata": {},
   "outputs": [],
   "source": [
    "from selenium import webdriver\n",
    "from collections import Counter\n",
    "from selenium import webdriver\n",
    "from webdriver_manager.chrome import ChromeDriverManager\n",
    "\n",
    "from selenium.webdriver.common.by import By\n",
    "from selenium.webdriver.support.ui import WebDriverWait\n",
    "from selenium.webdriver.support import expected_conditions as EC\n",
    "from selenium.common.exceptions import NoSuchElementException, StaleElementReferenceException\n"
   ]
  },
  {
   "cell_type": "code",
   "execution_count": 27,
   "id": "427c35f0",
   "metadata": {},
   "outputs": [],
   "source": [
    "# Initialize Chrome webdriver\n",
    "driver = webdriver.Chrome(ChromeDriverManager().install())\n",
    "\n",
    "# Navigate to the T-Series Dailymotion channel URL\n",
    "url = \"https://www.dailymotion.com/tseries2\"\n",
    "driver.get(url)"
   ]
  },
  {
   "cell_type": "code",
   "execution_count": 28,
   "id": "8ded91f6",
   "metadata": {},
   "outputs": [],
   "source": [
    "# Collect the first 500 video URLs\n",
    "video_urls = []\n",
    "for i in range(50):\n",
    "    # Scroll to the bottom of the page to load more videos\n",
    "    driver.execute_script(\"window.scrollTo(0, document.body.scrollHeight);\")\n",
    "    \n",
    "   # Find all the video URLs on the current page using XPath\n",
    "    video_links = WebDriverWait(driver, 10).until(\n",
    "        EC.presence_of_all_elements_located((By.XPATH, \"//*[@id='root']/div/main/div/div[2]/div/a[*]\"))\n",
    "    )\n",
    "    \n",
    "    for link in video_links:\n",
    "        video_url = link.get_attribute(\"href\")\n",
    "        if \"video/\" in video_url:\n",
    "            video_urls.append(video_url)\n",
    "            if len(video_urls) >= 500:\n",
    "                break\n",
    "    \n",
    "    # Click the \"Load More\" button if present\n",
    "    try:\n",
    "        load_more_button = driver.find_element_by_css_selector(\"button.load-more\")\n",
    "        load_more_button.click()\n",
    "    except:\n",
    "        pass\n",
    "    \n",
    "    if len(video_urls) >= 500:\n",
    "        break"
   ]
  },
  {
   "cell_type": "code",
   "execution_count": 29,
   "id": "5d479c1b",
   "metadata": {},
   "outputs": [],
   "source": [
    "# Extract the video IDs from the URLs\n",
    "video_ids = [url.split(\"/\")[-1] for url in video_urls]"
   ]
  },
  {
   "cell_type": "code",
   "execution_count": 30,
   "id": "e87c665c",
   "metadata": {},
   "outputs": [
    {
     "name": "stdout",
     "output_type": "stream",
     "text": [
      "['x3j6mwp', 'x34zk8a', 'x34zykg', 'x34zwgo', 'x34zk88', 'x34rt8m', 'x2zjpp4', 'x2zf8p6', 'x2zf732', 'x2zjouu', 'x2zjpd6', 'x2zjpxj', 'x2zf8mn', 'x2zf84f', 'x2zf7ff', 'x2zb358', 'x2zb244', 'x2zb1cn', 'x2z0xw3', 'x2z0x6y', 'x2yuxti', 'x2ywfh1', 'x2z0uvv', 'x2z0vjh', 'x2ywf0n', 'x2yuxeb', 'x2yuwzi', 'x2yuwts', 'x2yuwjb', 'x2qkmvb', 'x3j6mwp', 'x34zk8a', 'x34zykg', 'x34zwgo', 'x34zk88', 'x34rt8m', 'x2zjpp4', 'x2zf8p6', 'x2zf732', 'x2zjouu', 'x2zjpd6', 'x2zjpxj', 'x2zf8mn', 'x2zf84f', 'x2zf7ff', 'x2zb358', 'x2zb244', 'x2zb1cn', 'x2z0xw3', 'x2z0x6y', 'x2yuxti', 'x2ywfh1', 'x2z0uvv', 'x2z0vjh', 'x2ywf0n', 'x2yuxeb', 'x2yuwzi', 'x2yuwts', 'x2yuwjb', 'x2qkmvb', 'x3j6mwp', 'x34zk8a', 'x34zykg', 'x34zwgo', 'x34zk88', 'x34rt8m', 'x2zjpp4', 'x2zf8p6', 'x2zf732', 'x2zjouu', 'x2zjpd6', 'x2zjpxj', 'x2zf8mn', 'x2zf84f', 'x2zf7ff', 'x2zb358', 'x2zb244', 'x2zb1cn', 'x2z0xw3', 'x2z0x6y', 'x2yuxti', 'x2ywfh1', 'x2z0uvv', 'x2z0vjh', 'x2ywf0n', 'x2yuxeb', 'x2yuwzi', 'x2yuwts', 'x2yuwjb', 'x2qkmvb', 'x3j6mwp', 'x34zk8a', 'x34zykg', 'x34zwgo', 'x34zk88', 'x34rt8m', 'x2zjpp4', 'x2zf8p6', 'x2zf732', 'x2zjouu', 'x2zjpd6', 'x2zjpxj', 'x2zf8mn', 'x2zf84f', 'x2zf7ff', 'x2zb358', 'x2zb244', 'x2zb1cn', 'x2z0xw3', 'x2z0x6y', 'x2yuxti', 'x2ywfh1', 'x2z0uvv', 'x2z0vjh', 'x2ywf0n', 'x2yuxeb', 'x2yuwzi', 'x2yuwts', 'x2yuwjb', 'x2qkmvb', 'x3j6mwp', 'x34zk8a', 'x34zykg', 'x34zwgo', 'x34zk88', 'x34rt8m', 'x2zjpp4', 'x2zf8p6', 'x2zf732', 'x2zjouu', 'x2zjpd6', 'x2zjpxj', 'x2zf8mn', 'x2zf84f', 'x2zf7ff', 'x2zb358', 'x2zb244', 'x2zb1cn', 'x2z0xw3', 'x2z0x6y', 'x2yuxti', 'x2ywfh1', 'x2z0uvv', 'x2z0vjh', 'x2ywf0n', 'x2yuxeb', 'x2yuwzi', 'x2yuwts', 'x2yuwjb', 'x2qkmvb', 'x3j6mwp', 'x34zk8a', 'x34zykg', 'x34zwgo', 'x34zk88', 'x34rt8m', 'x2zjpp4', 'x2zf8p6', 'x2zf732', 'x2zjouu', 'x2zjpd6', 'x2zjpxj', 'x2zf8mn', 'x2zf84f', 'x2zf7ff', 'x2zb358', 'x2zb244', 'x2zb1cn', 'x2z0xw3', 'x2z0x6y', 'x2yuxti', 'x2ywfh1', 'x2z0uvv', 'x2z0vjh', 'x2ywf0n', 'x2yuxeb', 'x2yuwzi', 'x2yuwts', 'x2yuwjb', 'x2qkmvb', 'x3j6mwp', 'x34zk8a', 'x34zykg', 'x34zwgo', 'x34zk88', 'x34rt8m', 'x2zjpp4', 'x2zf8p6', 'x2zf732', 'x2zjouu', 'x2zjpd6', 'x2zjpxj', 'x2zf8mn', 'x2zf84f', 'x2zf7ff', 'x2zb358', 'x2zb244', 'x2zb1cn', 'x2z0xw3', 'x2z0x6y', 'x2yuxti', 'x2ywfh1', 'x2z0uvv', 'x2z0vjh', 'x2ywf0n', 'x2yuxeb', 'x2yuwzi', 'x2yuwts', 'x2yuwjb', 'x2qkmvb', 'x3j6mwp', 'x34zk8a', 'x34zykg', 'x34zwgo', 'x34zk88', 'x34rt8m', 'x2zjpp4', 'x2zf8p6', 'x2zf732', 'x2zjouu', 'x2zjpd6', 'x2zjpxj', 'x2zf8mn', 'x2zf84f', 'x2zf7ff', 'x2zb358', 'x2zb244', 'x2zb1cn', 'x2z0xw3', 'x2z0x6y', 'x2yuxti', 'x2ywfh1', 'x2z0uvv', 'x2z0vjh', 'x2ywf0n', 'x2yuxeb', 'x2yuwzi', 'x2yuwts', 'x2yuwjb', 'x2qkmvb', 'x3j6mwp', 'x34zk8a', 'x34zykg', 'x34zwgo', 'x34zk88', 'x34rt8m', 'x2zjpp4', 'x2zf8p6', 'x2zf732', 'x2zjouu', 'x2zjpd6', 'x2zjpxj', 'x2zf8mn', 'x2zf84f', 'x2zf7ff', 'x2zb358', 'x2zb244', 'x2zb1cn', 'x2z0xw3', 'x2z0x6y', 'x2yuxti', 'x2ywfh1', 'x2z0uvv', 'x2z0vjh', 'x2ywf0n', 'x2yuxeb', 'x2yuwzi', 'x2yuwts', 'x2yuwjb', 'x2qkmvb', 'x3j6mwp', 'x34zk8a', 'x34zykg', 'x34zwgo', 'x34zk88', 'x34rt8m', 'x2zjpp4', 'x2zf8p6', 'x2zf732', 'x2zjouu', 'x2zjpd6', 'x2zjpxj', 'x2zf8mn', 'x2zf84f', 'x2zf7ff', 'x2zb358', 'x2zb244', 'x2zb1cn', 'x2z0xw3', 'x2z0x6y', 'x2yuxti', 'x2ywfh1', 'x2z0uvv', 'x2z0vjh', 'x2ywf0n', 'x2yuxeb', 'x2yuwzi', 'x2yuwts', 'x2yuwjb', 'x2qkmvb', 'x3j6mwp', 'x34zk8a', 'x34zykg', 'x34zwgo', 'x34zk88', 'x34rt8m', 'x2zjpp4', 'x2zf8p6', 'x2zf732', 'x2zjouu', 'x2zjpd6', 'x2zjpxj', 'x2zf8mn', 'x2zf84f', 'x2zf7ff', 'x2zb358', 'x2zb244', 'x2zb1cn', 'x2z0xw3', 'x2z0x6y', 'x2yuxti', 'x2ywfh1', 'x2z0uvv', 'x2z0vjh', 'x2ywf0n', 'x2yuxeb', 'x2yuwzi', 'x2yuwts', 'x2yuwjb', 'x2qkmvb', 'x3j6mwp', 'x34zk8a', 'x34zykg', 'x34zwgo', 'x34zk88', 'x34rt8m', 'x2zjpp4', 'x2zf8p6', 'x2zf732', 'x2zjouu', 'x2zjpd6', 'x2zjpxj', 'x2zf8mn', 'x2zf84f', 'x2zf7ff', 'x2zb358', 'x2zb244', 'x2zb1cn', 'x2z0xw3', 'x2z0x6y', 'x2yuxti', 'x2ywfh1', 'x2z0uvv', 'x2z0vjh', 'x2ywf0n', 'x2yuxeb', 'x2yuwzi', 'x2yuwts', 'x2yuwjb', 'x2qkmvb', 'x3j6mwp', 'x34zk8a', 'x34zykg', 'x34zwgo', 'x34zk88', 'x34rt8m', 'x2zjpp4', 'x2zf8p6', 'x2zf732', 'x2zjouu', 'x2zjpd6', 'x2zjpxj', 'x2zf8mn', 'x2zf84f', 'x2zf7ff', 'x2zb358', 'x2zb244', 'x2zb1cn', 'x2z0xw3', 'x2z0x6y', 'x2yuxti', 'x2ywfh1', 'x2z0uvv', 'x2z0vjh', 'x2ywf0n', 'x2yuxeb', 'x2yuwzi', 'x2yuwts', 'x2yuwjb', 'x2qkmvb', 'x3j6mwp', 'x34zk8a', 'x34zykg', 'x34zwgo', 'x34zk88', 'x34rt8m', 'x2zjpp4', 'x2zf8p6', 'x2zf732', 'x2zjouu', 'x2zjpd6', 'x2zjpxj', 'x2zf8mn', 'x2zf84f', 'x2zf7ff', 'x2zb358', 'x2zb244', 'x2zb1cn', 'x2z0xw3', 'x2z0x6y', 'x2yuxti', 'x2ywfh1', 'x2z0uvv', 'x2z0vjh', 'x2ywf0n', 'x2yuxeb', 'x2yuwzi', 'x2yuwts', 'x2yuwjb', 'x2qkmvb', 'x3j6mwp', 'x34zk8a', 'x34zykg', 'x34zwgo', 'x34zk88', 'x34rt8m', 'x2zjpp4', 'x2zf8p6', 'x2zf732', 'x2zjouu', 'x2zjpd6', 'x2zjpxj', 'x2zf8mn', 'x2zf84f', 'x2zf7ff', 'x2zb358', 'x2zb244', 'x2zb1cn', 'x2z0xw3', 'x2z0x6y', 'x2yuxti', 'x2ywfh1', 'x2z0uvv', 'x2z0vjh', 'x2ywf0n', 'x2yuxeb', 'x2yuwzi', 'x2yuwts', 'x2yuwjb', 'x2qkmvb', 'x3j6mwp', 'x34zk8a', 'x34zykg', 'x34zwgo', 'x34zk88', 'x34rt8m', 'x2zjpp4', 'x2zf8p6', 'x2zf732', 'x2zjouu', 'x2zjpd6', 'x2zjpxj', 'x2zf8mn', 'x2zf84f', 'x2zf7ff', 'x2zb358', 'x2zb244', 'x2zb1cn', 'x2z0xw3', 'x2z0x6y', 'x2yuxti', 'x2ywfh1', 'x2z0uvv', 'x2z0vjh', 'x2ywf0n', 'x2yuxeb', 'x2yuwzi', 'x2yuwts', 'x2yuwjb', 'x2qkmvb', 'x3j6mwp', 'x34zk8a', 'x34zykg', 'x34zwgo', 'x34zk88', 'x34rt8m', 'x2zjpp4', 'x2zf8p6', 'x2zf732', 'x2zjouu', 'x2zjpd6', 'x2zjpxj', 'x2zf8mn', 'x2zf84f', 'x2zf7ff', 'x2zb358', 'x2zb244', 'x2zb1cn', 'x2z0xw3', 'x2z0x6y']\n"
     ]
    }
   ],
   "source": [
    "print(video_ids)"
   ]
  },
  {
   "cell_type": "code",
   "execution_count": 33,
   "id": "85b7c129",
   "metadata": {},
   "outputs": [
    {
     "name": "stdout",
     "output_type": "stream",
     "text": [
      "500\n"
     ]
    }
   ],
   "source": [
    "print(len(video_ids))"
   ]
  },
  {
   "cell_type": "code",
   "execution_count": 31,
   "id": "c526486b",
   "metadata": {},
   "outputs": [],
   "source": [
    "# Count the frequency of each character in the video IDs\n",
    "char_counts = Counter(\"\".join(video_ids))"
   ]
  },
  {
   "cell_type": "code",
   "execution_count": 32,
   "id": "86e7cc18",
   "metadata": {},
   "outputs": [
    {
     "name": "stdout",
     "output_type": "stream",
     "text": [
      "x:583\n"
     ]
    }
   ],
   "source": [
    "# Find the most frequently repeated character\n",
    "most_repeated_char = max(char_counts, key=char_counts.get)\n",
    "most_repeated_count = char_counts[most_repeated_char]\n",
    "\n",
    "# Print the result\n",
    "print(f\"{most_repeated_char}:{most_repeated_count}\")\n",
    "\n",
    "# Close the webdriver\n",
    "driver.quit()"
   ]
  },
  {
   "cell_type": "code",
   "execution_count": null,
   "id": "11519b7e",
   "metadata": {},
   "outputs": [],
   "source": []
  }
 ],
 "metadata": {
  "kernelspec": {
   "display_name": "Python 3 (ipykernel)",
   "language": "python",
   "name": "python3"
  },
  "language_info": {
   "codemirror_mode": {
    "name": "ipython",
    "version": 3
   },
   "file_extension": ".py",
   "mimetype": "text/x-python",
   "name": "python",
   "nbconvert_exporter": "python",
   "pygments_lexer": "ipython3",
   "version": "3.10.12"
  }
 },
 "nbformat": 4,
 "nbformat_minor": 5
}
